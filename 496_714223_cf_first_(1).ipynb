{
  "nbformat": 4,
  "nbformat_minor": 0,
  "metadata": {
    "kernelspec": {
      "display_name": "Python 3",
      "language": "python",
      "name": "python3"
    },
    "language_info": {
      "codemirror_mode": {
        "name": "ipython",
        "version": 3
      },
      "file_extension": ".py",
      "mimetype": "text/x-python",
      "name": "python",
      "nbconvert_exporter": "python",
      "pygments_lexer": "ipython3",
      "version": "3.7.3"
    },
    "colab": {
      "name": "496_714223_cf_first (1).ipynb",
      "provenance": [],
      "include_colab_link": true
    }
  },
  "cells": [
    {
      "cell_type": "markdown",
      "metadata": {
        "id": "view-in-github",
        "colab_type": "text"
      },
      "source": [
        "<a href=\"https://colab.research.google.com/github/ivnattt/Premium_Payment_Prediction/blob/master/496_714223_cf_first_(1).ipynb\" target=\"_parent\"><img src=\"https://colab.research.google.com/assets/colab-badge.svg\" alt=\"Open In Colab\"/></a>"
      ]
    },
    {
      "cell_type": "code",
      "metadata": {
        "id": "xP-YW2svs7fj",
        "colab_type": "code",
        "colab": {}
      },
      "source": [
        "import pandas as pd\n",
        "import numpy as nm"
      ],
      "execution_count": null,
      "outputs": []
    },
    {
      "cell_type": "code",
      "metadata": {
        "id": "qOOcA4YMs7fy",
        "colab_type": "code",
        "colab": {}
      },
      "source": [
        "train = pd.read_csv('C:/Users/Tanvi/Desktop/disaster management stuff/done/contest/train.csv')\n",
        "test = pd.read_csv('C:/Users/Tanvi/Desktop/disaster management stuff/done/contest/test.csv')"
      ],
      "execution_count": null,
      "outputs": []
    },
    {
      "cell_type": "code",
      "metadata": {
        "id": "Z7KfBno5s7f5",
        "colab_type": "code",
        "colab": {},
        "outputId": "7194c0c9-1f38-407d-a110-999af618da70"
      },
      "source": [
        "train.shape, test.shape"
      ],
      "execution_count": null,
      "outputs": [
        {
          "output_type": "execute_result",
          "data": {
            "text/plain": [
              "((79853, 12), (34224, 11))"
            ]
          },
          "metadata": {
            "tags": []
          },
          "execution_count": 92
        }
      ]
    },
    {
      "cell_type": "code",
      "metadata": {
        "id": "gd8mLruIs7gE",
        "colab_type": "code",
        "colab": {},
        "outputId": "492279d3-bba1-41bf-fc7a-a2ef66fe2cb9"
      },
      "source": [
        "train.head(10)"
      ],
      "execution_count": null,
      "outputs": [
        {
          "output_type": "execute_result",
          "data": {
            "text/html": [
              "<div>\n",
              "<style scoped>\n",
              "    .dataframe tbody tr th:only-of-type {\n",
              "        vertical-align: middle;\n",
              "    }\n",
              "\n",
              "    .dataframe tbody tr th {\n",
              "        vertical-align: top;\n",
              "    }\n",
              "\n",
              "    .dataframe thead th {\n",
              "        text-align: right;\n",
              "    }\n",
              "</style>\n",
              "<table border=\"1\" class=\"dataframe\">\n",
              "  <thead>\n",
              "    <tr style=\"text-align: right;\">\n",
              "      <th></th>\n",
              "      <th>id</th>\n",
              "      <th>perc_premium_paid_by_cash_credit</th>\n",
              "      <th>age_in_days</th>\n",
              "      <th>Income</th>\n",
              "      <th>Count_3-6_months_late</th>\n",
              "      <th>Count_6-12_months_late</th>\n",
              "      <th>Count_more_than_12_months_late</th>\n",
              "      <th>application_underwriting_score</th>\n",
              "      <th>no_of_premiums_paid</th>\n",
              "      <th>target</th>\n",
              "      <th>sourcing_channel_A</th>\n",
              "      <th>sourcing_channel_B</th>\n",
              "      <th>sourcing_channel_C</th>\n",
              "      <th>sourcing_channel_D</th>\n",
              "      <th>sourcing_channel_E</th>\n",
              "      <th>residence_area_type_Rural</th>\n",
              "      <th>residence_area_type_Urban</th>\n",
              "    </tr>\n",
              "  </thead>\n",
              "  <tbody>\n",
              "    <tr>\n",
              "      <th>0</th>\n",
              "      <td>110936</td>\n",
              "      <td>0.429</td>\n",
              "      <td>12058</td>\n",
              "      <td>355060</td>\n",
              "      <td>0.0</td>\n",
              "      <td>0.0</td>\n",
              "      <td>0.0</td>\n",
              "      <td>99.02</td>\n",
              "      <td>13</td>\n",
              "      <td>1</td>\n",
              "      <td>0</td>\n",
              "      <td>0</td>\n",
              "      <td>1</td>\n",
              "      <td>0</td>\n",
              "      <td>0</td>\n",
              "      <td>0</td>\n",
              "      <td>1</td>\n",
              "    </tr>\n",
              "    <tr>\n",
              "      <th>1</th>\n",
              "      <td>41492</td>\n",
              "      <td>0.010</td>\n",
              "      <td>21546</td>\n",
              "      <td>315150</td>\n",
              "      <td>0.0</td>\n",
              "      <td>0.0</td>\n",
              "      <td>0.0</td>\n",
              "      <td>99.89</td>\n",
              "      <td>21</td>\n",
              "      <td>1</td>\n",
              "      <td>1</td>\n",
              "      <td>0</td>\n",
              "      <td>0</td>\n",
              "      <td>0</td>\n",
              "      <td>0</td>\n",
              "      <td>0</td>\n",
              "      <td>1</td>\n",
              "    </tr>\n",
              "    <tr>\n",
              "      <th>2</th>\n",
              "      <td>31300</td>\n",
              "      <td>0.917</td>\n",
              "      <td>17531</td>\n",
              "      <td>84140</td>\n",
              "      <td>2.0</td>\n",
              "      <td>3.0</td>\n",
              "      <td>1.0</td>\n",
              "      <td>98.69</td>\n",
              "      <td>7</td>\n",
              "      <td>0</td>\n",
              "      <td>0</td>\n",
              "      <td>0</td>\n",
              "      <td>1</td>\n",
              "      <td>0</td>\n",
              "      <td>0</td>\n",
              "      <td>1</td>\n",
              "      <td>0</td>\n",
              "    </tr>\n",
              "    <tr>\n",
              "      <th>3</th>\n",
              "      <td>19415</td>\n",
              "      <td>0.049</td>\n",
              "      <td>15341</td>\n",
              "      <td>250510</td>\n",
              "      <td>0.0</td>\n",
              "      <td>0.0</td>\n",
              "      <td>0.0</td>\n",
              "      <td>99.57</td>\n",
              "      <td>9</td>\n",
              "      <td>1</td>\n",
              "      <td>1</td>\n",
              "      <td>0</td>\n",
              "      <td>0</td>\n",
              "      <td>0</td>\n",
              "      <td>0</td>\n",
              "      <td>0</td>\n",
              "      <td>1</td>\n",
              "    </tr>\n",
              "    <tr>\n",
              "      <th>4</th>\n",
              "      <td>99379</td>\n",
              "      <td>0.052</td>\n",
              "      <td>31400</td>\n",
              "      <td>198680</td>\n",
              "      <td>0.0</td>\n",
              "      <td>0.0</td>\n",
              "      <td>0.0</td>\n",
              "      <td>99.87</td>\n",
              "      <td>12</td>\n",
              "      <td>1</td>\n",
              "      <td>0</td>\n",
              "      <td>1</td>\n",
              "      <td>0</td>\n",
              "      <td>0</td>\n",
              "      <td>0</td>\n",
              "      <td>0</td>\n",
              "      <td>1</td>\n",
              "    </tr>\n",
              "    <tr>\n",
              "      <th>5</th>\n",
              "      <td>59951</td>\n",
              "      <td>0.540</td>\n",
              "      <td>17527</td>\n",
              "      <td>282080</td>\n",
              "      <td>2.0</td>\n",
              "      <td>0.0</td>\n",
              "      <td>0.0</td>\n",
              "      <td>99.18</td>\n",
              "      <td>9</td>\n",
              "      <td>1</td>\n",
              "      <td>0</td>\n",
              "      <td>1</td>\n",
              "      <td>0</td>\n",
              "      <td>0</td>\n",
              "      <td>0</td>\n",
              "      <td>1</td>\n",
              "      <td>0</td>\n",
              "    </tr>\n",
              "    <tr>\n",
              "      <th>6</th>\n",
              "      <td>54031</td>\n",
              "      <td>1.000</td>\n",
              "      <td>24829</td>\n",
              "      <td>118400</td>\n",
              "      <td>0.0</td>\n",
              "      <td>0.0</td>\n",
              "      <td>0.0</td>\n",
              "      <td>99.05</td>\n",
              "      <td>11</td>\n",
              "      <td>1</td>\n",
              "      <td>0</td>\n",
              "      <td>1</td>\n",
              "      <td>0</td>\n",
              "      <td>0</td>\n",
              "      <td>0</td>\n",
              "      <td>0</td>\n",
              "      <td>1</td>\n",
              "    </tr>\n",
              "    <tr>\n",
              "      <th>7</th>\n",
              "      <td>94290</td>\n",
              "      <td>1.000</td>\n",
              "      <td>21911</td>\n",
              "      <td>180240</td>\n",
              "      <td>1.0</td>\n",
              "      <td>6.0</td>\n",
              "      <td>4.0</td>\n",
              "      <td>99.33</td>\n",
              "      <td>3</td>\n",
              "      <td>0</td>\n",
              "      <td>1</td>\n",
              "      <td>0</td>\n",
              "      <td>0</td>\n",
              "      <td>0</td>\n",
              "      <td>0</td>\n",
              "      <td>0</td>\n",
              "      <td>1</td>\n",
              "    </tr>\n",
              "    <tr>\n",
              "      <th>8</th>\n",
              "      <td>93730</td>\n",
              "      <td>0.621</td>\n",
              "      <td>9868</td>\n",
              "      <td>92520</td>\n",
              "      <td>0.0</td>\n",
              "      <td>0.0</td>\n",
              "      <td>0.0</td>\n",
              "      <td>99.58</td>\n",
              "      <td>4</td>\n",
              "      <td>1</td>\n",
              "      <td>1</td>\n",
              "      <td>0</td>\n",
              "      <td>0</td>\n",
              "      <td>0</td>\n",
              "      <td>0</td>\n",
              "      <td>0</td>\n",
              "      <td>1</td>\n",
              "    </tr>\n",
              "    <tr>\n",
              "      <th>9</th>\n",
              "      <td>84844</td>\n",
              "      <td>0.908</td>\n",
              "      <td>23008</td>\n",
              "      <td>107180</td>\n",
              "      <td>2.0</td>\n",
              "      <td>0.0</td>\n",
              "      <td>0.0</td>\n",
              "      <td>98.91</td>\n",
              "      <td>11</td>\n",
              "      <td>0</td>\n",
              "      <td>1</td>\n",
              "      <td>0</td>\n",
              "      <td>0</td>\n",
              "      <td>0</td>\n",
              "      <td>0</td>\n",
              "      <td>1</td>\n",
              "      <td>0</td>\n",
              "    </tr>\n",
              "  </tbody>\n",
              "</table>\n",
              "</div>"
            ],
            "text/plain": [
              "       id  perc_premium_paid_by_cash_credit  age_in_days  Income  \\\n",
              "0  110936                             0.429        12058  355060   \n",
              "1   41492                             0.010        21546  315150   \n",
              "2   31300                             0.917        17531   84140   \n",
              "3   19415                             0.049        15341  250510   \n",
              "4   99379                             0.052        31400  198680   \n",
              "5   59951                             0.540        17527  282080   \n",
              "6   54031                             1.000        24829  118400   \n",
              "7   94290                             1.000        21911  180240   \n",
              "8   93730                             0.621         9868   92520   \n",
              "9   84844                             0.908        23008  107180   \n",
              "\n",
              "   Count_3-6_months_late  Count_6-12_months_late  \\\n",
              "0                    0.0                     0.0   \n",
              "1                    0.0                     0.0   \n",
              "2                    2.0                     3.0   \n",
              "3                    0.0                     0.0   \n",
              "4                    0.0                     0.0   \n",
              "5                    2.0                     0.0   \n",
              "6                    0.0                     0.0   \n",
              "7                    1.0                     6.0   \n",
              "8                    0.0                     0.0   \n",
              "9                    2.0                     0.0   \n",
              "\n",
              "   Count_more_than_12_months_late  application_underwriting_score  \\\n",
              "0                             0.0                           99.02   \n",
              "1                             0.0                           99.89   \n",
              "2                             1.0                           98.69   \n",
              "3                             0.0                           99.57   \n",
              "4                             0.0                           99.87   \n",
              "5                             0.0                           99.18   \n",
              "6                             0.0                           99.05   \n",
              "7                             4.0                           99.33   \n",
              "8                             0.0                           99.58   \n",
              "9                             0.0                           98.91   \n",
              "\n",
              "   no_of_premiums_paid  target  sourcing_channel_A  sourcing_channel_B  \\\n",
              "0                   13       1                   0                   0   \n",
              "1                   21       1                   1                   0   \n",
              "2                    7       0                   0                   0   \n",
              "3                    9       1                   1                   0   \n",
              "4                   12       1                   0                   1   \n",
              "5                    9       1                   0                   1   \n",
              "6                   11       1                   0                   1   \n",
              "7                    3       0                   1                   0   \n",
              "8                    4       1                   1                   0   \n",
              "9                   11       0                   1                   0   \n",
              "\n",
              "   sourcing_channel_C  sourcing_channel_D  sourcing_channel_E  \\\n",
              "0                   1                   0                   0   \n",
              "1                   0                   0                   0   \n",
              "2                   1                   0                   0   \n",
              "3                   0                   0                   0   \n",
              "4                   0                   0                   0   \n",
              "5                   0                   0                   0   \n",
              "6                   0                   0                   0   \n",
              "7                   0                   0                   0   \n",
              "8                   0                   0                   0   \n",
              "9                   0                   0                   0   \n",
              "\n",
              "   residence_area_type_Rural  residence_area_type_Urban  \n",
              "0                          0                          1  \n",
              "1                          0                          1  \n",
              "2                          1                          0  \n",
              "3                          0                          1  \n",
              "4                          0                          1  \n",
              "5                          1                          0  \n",
              "6                          0                          1  \n",
              "7                          0                          1  \n",
              "8                          0                          1  \n",
              "9                          1                          0  "
            ]
          },
          "metadata": {
            "tags": []
          },
          "execution_count": 103
        }
      ]
    },
    {
      "cell_type": "code",
      "metadata": {
        "scrolled": true,
        "id": "VdnSed3Is7gN",
        "colab_type": "code",
        "colab": {},
        "outputId": "1e37c987-4036-42dd-e0cd-4f969534cd49"
      },
      "source": [
        "test.head()"
      ],
      "execution_count": null,
      "outputs": [
        {
          "output_type": "execute_result",
          "data": {
            "text/html": [
              "<div>\n",
              "<style scoped>\n",
              "    .dataframe tbody tr th:only-of-type {\n",
              "        vertical-align: middle;\n",
              "    }\n",
              "\n",
              "    .dataframe tbody tr th {\n",
              "        vertical-align: top;\n",
              "    }\n",
              "\n",
              "    .dataframe thead th {\n",
              "        text-align: right;\n",
              "    }\n",
              "</style>\n",
              "<table border=\"1\" class=\"dataframe\">\n",
              "  <thead>\n",
              "    <tr style=\"text-align: right;\">\n",
              "      <th></th>\n",
              "      <th>id</th>\n",
              "      <th>perc_premium_paid_by_cash_credit</th>\n",
              "      <th>age_in_days</th>\n",
              "      <th>Income</th>\n",
              "      <th>Count_3-6_months_late</th>\n",
              "      <th>Count_6-12_months_late</th>\n",
              "      <th>Count_more_than_12_months_late</th>\n",
              "      <th>application_underwriting_score</th>\n",
              "      <th>no_of_premiums_paid</th>\n",
              "      <th>sourcing_channel</th>\n",
              "      <th>residence_area_type</th>\n",
              "    </tr>\n",
              "  </thead>\n",
              "  <tbody>\n",
              "    <tr>\n",
              "      <th>0</th>\n",
              "      <td>649</td>\n",
              "      <td>0.001</td>\n",
              "      <td>27384</td>\n",
              "      <td>51150</td>\n",
              "      <td>0.0</td>\n",
              "      <td>0.0</td>\n",
              "      <td>0.0</td>\n",
              "      <td>99.89</td>\n",
              "      <td>7</td>\n",
              "      <td>A</td>\n",
              "      <td>Rural</td>\n",
              "    </tr>\n",
              "    <tr>\n",
              "      <th>1</th>\n",
              "      <td>81136</td>\n",
              "      <td>0.124</td>\n",
              "      <td>23735</td>\n",
              "      <td>285140</td>\n",
              "      <td>0.0</td>\n",
              "      <td>0.0</td>\n",
              "      <td>0.0</td>\n",
              "      <td>98.93</td>\n",
              "      <td>19</td>\n",
              "      <td>A</td>\n",
              "      <td>Urban</td>\n",
              "    </tr>\n",
              "    <tr>\n",
              "      <th>2</th>\n",
              "      <td>70762</td>\n",
              "      <td>1.000</td>\n",
              "      <td>17170</td>\n",
              "      <td>186030</td>\n",
              "      <td>0.0</td>\n",
              "      <td>0.0</td>\n",
              "      <td>0.0</td>\n",
              "      <td>NaN</td>\n",
              "      <td>2</td>\n",
              "      <td>B</td>\n",
              "      <td>Urban</td>\n",
              "    </tr>\n",
              "    <tr>\n",
              "      <th>3</th>\n",
              "      <td>53935</td>\n",
              "      <td>0.198</td>\n",
              "      <td>16068</td>\n",
              "      <td>123540</td>\n",
              "      <td>0.0</td>\n",
              "      <td>0.0</td>\n",
              "      <td>0.0</td>\n",
              "      <td>99.00</td>\n",
              "      <td>11</td>\n",
              "      <td>B</td>\n",
              "      <td>Rural</td>\n",
              "    </tr>\n",
              "    <tr>\n",
              "      <th>4</th>\n",
              "      <td>15476</td>\n",
              "      <td>0.041</td>\n",
              "      <td>10591</td>\n",
              "      <td>200020</td>\n",
              "      <td>1.0</td>\n",
              "      <td>0.0</td>\n",
              "      <td>0.0</td>\n",
              "      <td>99.17</td>\n",
              "      <td>14</td>\n",
              "      <td>A</td>\n",
              "      <td>Rural</td>\n",
              "    </tr>\n",
              "  </tbody>\n",
              "</table>\n",
              "</div>"
            ],
            "text/plain": [
              "      id  perc_premium_paid_by_cash_credit  age_in_days  Income  \\\n",
              "0    649                             0.001        27384   51150   \n",
              "1  81136                             0.124        23735  285140   \n",
              "2  70762                             1.000        17170  186030   \n",
              "3  53935                             0.198        16068  123540   \n",
              "4  15476                             0.041        10591  200020   \n",
              "\n",
              "   Count_3-6_months_late  Count_6-12_months_late  \\\n",
              "0                    0.0                     0.0   \n",
              "1                    0.0                     0.0   \n",
              "2                    0.0                     0.0   \n",
              "3                    0.0                     0.0   \n",
              "4                    1.0                     0.0   \n",
              "\n",
              "   Count_more_than_12_months_late  application_underwriting_score  \\\n",
              "0                             0.0                           99.89   \n",
              "1                             0.0                           98.93   \n",
              "2                             0.0                             NaN   \n",
              "3                             0.0                           99.00   \n",
              "4                             0.0                           99.17   \n",
              "\n",
              "   no_of_premiums_paid sourcing_channel residence_area_type  \n",
              "0                    7                A               Rural  \n",
              "1                   19                A               Urban  \n",
              "2                    2                B               Urban  \n",
              "3                   11                B               Rural  \n",
              "4                   14                A               Rural  "
            ]
          },
          "metadata": {
            "tags": []
          },
          "execution_count": 94
        }
      ]
    },
    {
      "cell_type": "code",
      "metadata": {
        "id": "Pahr87k1s7gW",
        "colab_type": "code",
        "colab": {},
        "outputId": "42c62d86-8d55-408a-8f00-ea233c7e8ff7"
      },
      "source": [
        "train['target'].value_counts()"
      ],
      "execution_count": null,
      "outputs": [
        {
          "output_type": "execute_result",
          "data": {
            "text/plain": [
              "1    74855\n",
              "0     4998\n",
              "Name: target, dtype: int64"
            ]
          },
          "metadata": {
            "tags": []
          },
          "execution_count": 95
        }
      ]
    },
    {
      "cell_type": "code",
      "metadata": {
        "id": "yuPRv04os7gd",
        "colab_type": "code",
        "colab": {},
        "outputId": "4cee5013-1917-41b4-bd03-56b720b2410b"
      },
      "source": [
        "train.dtypes"
      ],
      "execution_count": null,
      "outputs": [
        {
          "output_type": "execute_result",
          "data": {
            "text/plain": [
              "id                                    int64\n",
              "perc_premium_paid_by_cash_credit    float64\n",
              "age_in_days                           int64\n",
              "Income                                int64\n",
              "Count_3-6_months_late               float64\n",
              "Count_6-12_months_late              float64\n",
              "Count_more_than_12_months_late      float64\n",
              "application_underwriting_score      float64\n",
              "no_of_premiums_paid                   int64\n",
              "sourcing_channel                     object\n",
              "residence_area_type                  object\n",
              "target                                int64\n",
              "dtype: object"
            ]
          },
          "metadata": {
            "tags": []
          },
          "execution_count": 96
        }
      ]
    },
    {
      "cell_type": "code",
      "metadata": {
        "id": "3ItgjwB9s7gl",
        "colab_type": "code",
        "colab": {},
        "outputId": "eaab98f3-d224-4998-d764-4ead2b8f818b"
      },
      "source": [
        "test.dtypes"
      ],
      "execution_count": null,
      "outputs": [
        {
          "output_type": "execute_result",
          "data": {
            "text/plain": [
              "id                                    int64\n",
              "perc_premium_paid_by_cash_credit    float64\n",
              "age_in_days                           int64\n",
              "Income                                int64\n",
              "Count_3-6_months_late               float64\n",
              "Count_6-12_months_late              float64\n",
              "Count_more_than_12_months_late      float64\n",
              "application_underwriting_score      float64\n",
              "no_of_premiums_paid                   int64\n",
              "sourcing_channel                     object\n",
              "residence_area_type                  object\n",
              "dtype: object"
            ]
          },
          "metadata": {
            "tags": []
          },
          "execution_count": 97
        }
      ]
    },
    {
      "cell_type": "code",
      "metadata": {
        "id": "1ku4B0SHs7gt",
        "colab_type": "code",
        "colab": {}
      },
      "source": [
        "train=pd.get_dummies(train)"
      ],
      "execution_count": null,
      "outputs": []
    },
    {
      "cell_type": "code",
      "metadata": {
        "id": "MW7IJoRvs7gz",
        "colab_type": "code",
        "colab": {}
      },
      "source": [
        "test=pd.get_dummies(test)"
      ],
      "execution_count": null,
      "outputs": []
    },
    {
      "cell_type": "code",
      "metadata": {
        "id": "OawvKUcNs7hU",
        "colab_type": "code",
        "colab": {},
        "outputId": "6ed13515-2a1d-4985-f624-24a47d355b9b"
      },
      "source": [
        "train.shape, test.shape\n"
      ],
      "execution_count": null,
      "outputs": [
        {
          "output_type": "execute_result",
          "data": {
            "text/plain": [
              "((79853, 17), (34224, 16))"
            ]
          },
          "metadata": {
            "tags": []
          },
          "execution_count": 100
        }
      ]
    },
    {
      "cell_type": "code",
      "metadata": {
        "id": "1Xw7WX7rs7hb",
        "colab_type": "code",
        "colab": {},
        "outputId": "fe5a1da7-4a9b-44d3-b762-ddfb1c09a272"
      },
      "source": [
        "train.isnull().sum()"
      ],
      "execution_count": null,
      "outputs": [
        {
          "output_type": "execute_result",
          "data": {
            "text/plain": [
              "id                                   0\n",
              "perc_premium_paid_by_cash_credit     0\n",
              "age_in_days                          0\n",
              "Income                               0\n",
              "Count_3-6_months_late                0\n",
              "Count_6-12_months_late              97\n",
              "Count_more_than_12_months_late       0\n",
              "application_underwriting_score       0\n",
              "no_of_premiums_paid                  0\n",
              "target                               0\n",
              "sourcing_channel_A                   0\n",
              "sourcing_channel_B                   0\n",
              "sourcing_channel_C                   0\n",
              "sourcing_channel_D                   0\n",
              "sourcing_channel_E                   0\n",
              "residence_area_type_Rural            0\n",
              "residence_area_type_Urban            0\n",
              "dtype: int64"
            ]
          },
          "metadata": {
            "tags": []
          },
          "execution_count": 121
        }
      ]
    },
    {
      "cell_type": "code",
      "metadata": {
        "id": "GvqNihC4s7hh",
        "colab_type": "code",
        "colab": {},
        "outputId": "24ed3ccb-4a49-4bbb-9a7e-e72a4cf8d2c3"
      },
      "source": [
        "test.isnull().sum()"
      ],
      "execution_count": null,
      "outputs": [
        {
          "output_type": "execute_result",
          "data": {
            "text/plain": [
              "id                                  0\n",
              "perc_premium_paid_by_cash_credit    0\n",
              "age_in_days                         0\n",
              "Income                              0\n",
              "Count_3-6_months_late               0\n",
              "Count_6-12_months_late              0\n",
              "Count_more_than_12_months_late      0\n",
              "application_underwriting_score      0\n",
              "no_of_premiums_paid                 0\n",
              "sourcing_channel_A                  0\n",
              "sourcing_channel_B                  0\n",
              "sourcing_channel_C                  0\n",
              "sourcing_channel_D                  0\n",
              "sourcing_channel_E                  0\n",
              "residence_area_type_Rural           0\n",
              "residence_area_type_Urban           0\n",
              "dtype: int64"
            ]
          },
          "metadata": {
            "tags": []
          },
          "execution_count": 122
        }
      ]
    },
    {
      "cell_type": "code",
      "metadata": {
        "id": "bc9Tv4T-s7hn",
        "colab_type": "code",
        "colab": {}
      },
      "source": [
        "train['Count_3-6_months_late'].fillna(0,inplace=True)"
      ],
      "execution_count": null,
      "outputs": []
    },
    {
      "cell_type": "code",
      "metadata": {
        "id": "Pm8TCJwRs7hw",
        "colab_type": "code",
        "colab": {}
      },
      "source": [
        "train['Count_6-12_months_late'].fillna(0,inplace=True)"
      ],
      "execution_count": null,
      "outputs": []
    },
    {
      "cell_type": "code",
      "metadata": {
        "id": "y9w_RLD3s7h2",
        "colab_type": "code",
        "colab": {}
      },
      "source": [
        "train['Count_more_than_12_months_late'].fillna(0,inplace=True)"
      ],
      "execution_count": null,
      "outputs": []
    },
    {
      "cell_type": "code",
      "metadata": {
        "id": "f9HRqJfMs7h9",
        "colab_type": "code",
        "colab": {}
      },
      "source": [
        "train['application_underwriting_score'].fillna(train['application_underwriting_score'].mean(),inplace=True)"
      ],
      "execution_count": null,
      "outputs": []
    },
    {
      "cell_type": "code",
      "metadata": {
        "id": "0vJnwUVxs7iG",
        "colab_type": "code",
        "colab": {}
      },
      "source": [
        "test['Count_3-6_months_late'].fillna(0,inplace=True)"
      ],
      "execution_count": null,
      "outputs": []
    },
    {
      "cell_type": "code",
      "metadata": {
        "id": "e81_x8mPs7iN",
        "colab_type": "code",
        "colab": {}
      },
      "source": [
        "test['Count_6-12_months_late'].fillna(0,inplace=True)"
      ],
      "execution_count": null,
      "outputs": []
    },
    {
      "cell_type": "code",
      "metadata": {
        "id": "od4nitaxs7iT",
        "colab_type": "code",
        "colab": {}
      },
      "source": [
        "test['Count_more_than_12_months_late'].fillna(0,inplace=True)"
      ],
      "execution_count": null,
      "outputs": []
    },
    {
      "cell_type": "code",
      "metadata": {
        "id": "yeAAhIIcs7iY",
        "colab_type": "code",
        "colab": {}
      },
      "source": [
        "test['application_underwriting_score'].fillna(test['application_underwriting_score'].mean(),inplace=True)"
      ],
      "execution_count": null,
      "outputs": []
    },
    {
      "cell_type": "code",
      "metadata": {
        "id": "-8z1ZmmUs7id",
        "colab_type": "code",
        "colab": {}
      },
      "source": [
        "tests=test.drop(['id'], axis=1)"
      ],
      "execution_count": null,
      "outputs": []
    },
    {
      "cell_type": "code",
      "metadata": {
        "id": "9NR8aI3Fs7ik",
        "colab_type": "code",
        "colab": {}
      },
      "source": [
        "ids=test['id']"
      ],
      "execution_count": null,
      "outputs": []
    },
    {
      "cell_type": "code",
      "metadata": {
        "id": "tdO-asMTs7io",
        "colab_type": "code",
        "colab": {}
      },
      "source": [
        "x=train.drop(['target','id'], axis=1)"
      ],
      "execution_count": null,
      "outputs": []
    },
    {
      "cell_type": "code",
      "metadata": {
        "id": "RqY3yXfWs7iu",
        "colab_type": "code",
        "colab": {}
      },
      "source": [
        "y=train['target']"
      ],
      "execution_count": null,
      "outputs": []
    },
    {
      "cell_type": "code",
      "metadata": {
        "id": "ztgZJCQ_s7iz",
        "colab_type": "code",
        "colab": {},
        "outputId": "d6165fd1-b1c3-4894-a215-94875d40a06a"
      },
      "source": [
        "train[['target','id','perc_premium_paid_by_cash_credit','age_in_days' , 'Income', 'Count_3-6_months_late', 'Count_6-12_months_late', 'Count_more_than_12_months_late', 'application_underwriting_score', 'no_of_premiums_paid', 'sourcing_channel_A', 'sourcing_channel_B', 'sourcing_channel_C', 'sourcing_channel_D', 'sourcing_channel_E', 'residence_area_type_Rural', 'residence_area_type_Urban']].corr()"
      ],
      "execution_count": null,
      "outputs": [
        {
          "output_type": "execute_result",
          "data": {
            "text/html": [
              "<div>\n",
              "<style scoped>\n",
              "    .dataframe tbody tr th:only-of-type {\n",
              "        vertical-align: middle;\n",
              "    }\n",
              "\n",
              "    .dataframe tbody tr th {\n",
              "        vertical-align: top;\n",
              "    }\n",
              "\n",
              "    .dataframe thead th {\n",
              "        text-align: right;\n",
              "    }\n",
              "</style>\n",
              "<table border=\"1\" class=\"dataframe\">\n",
              "  <thead>\n",
              "    <tr style=\"text-align: right;\">\n",
              "      <th></th>\n",
              "      <th>target</th>\n",
              "      <th>id</th>\n",
              "      <th>perc_premium_paid_by_cash_credit</th>\n",
              "      <th>age_in_days</th>\n",
              "      <th>Income</th>\n",
              "      <th>Count_3-6_months_late</th>\n",
              "      <th>Count_6-12_months_late</th>\n",
              "      <th>Count_more_than_12_months_late</th>\n",
              "      <th>application_underwriting_score</th>\n",
              "      <th>no_of_premiums_paid</th>\n",
              "      <th>sourcing_channel_A</th>\n",
              "      <th>sourcing_channel_B</th>\n",
              "      <th>sourcing_channel_C</th>\n",
              "      <th>sourcing_channel_D</th>\n",
              "      <th>sourcing_channel_E</th>\n",
              "      <th>residence_area_type_Rural</th>\n",
              "      <th>residence_area_type_Urban</th>\n",
              "    </tr>\n",
              "  </thead>\n",
              "  <tbody>\n",
              "    <tr>\n",
              "      <th>target</th>\n",
              "      <td>1.000000</td>\n",
              "      <td>-0.005064</td>\n",
              "      <td>-0.240980</td>\n",
              "      <td>0.095103</td>\n",
              "      <td>0.016541</td>\n",
              "      <td>-0.246469</td>\n",
              "      <td>-0.284034</td>\n",
              "      <td>-0.238482</td>\n",
              "      <td>0.067333</td>\n",
              "      <td>0.022664</td>\n",
              "      <td>0.036386</td>\n",
              "      <td>-0.004151</td>\n",
              "      <td>-0.021598</td>\n",
              "      <td>-0.028412</td>\n",
              "      <td>-0.004685</td>\n",
              "      <td>-0.001667</td>\n",
              "      <td>0.001667</td>\n",
              "    </tr>\n",
              "    <tr>\n",
              "      <th>id</th>\n",
              "      <td>-0.005064</td>\n",
              "      <td>1.000000</td>\n",
              "      <td>-0.004833</td>\n",
              "      <td>0.005184</td>\n",
              "      <td>-0.001798</td>\n",
              "      <td>-0.005643</td>\n",
              "      <td>-0.002117</td>\n",
              "      <td>0.003429</td>\n",
              "      <td>-0.002085</td>\n",
              "      <td>-0.003328</td>\n",
              "      <td>0.002253</td>\n",
              "      <td>-0.005946</td>\n",
              "      <td>0.000984</td>\n",
              "      <td>0.002335</td>\n",
              "      <td>0.002870</td>\n",
              "      <td>-0.002015</td>\n",
              "      <td>0.002015</td>\n",
              "    </tr>\n",
              "    <tr>\n",
              "      <th>perc_premium_paid_by_cash_credit</th>\n",
              "      <td>-0.240980</td>\n",
              "      <td>-0.004833</td>\n",
              "      <td>1.000000</td>\n",
              "      <td>-0.259131</td>\n",
              "      <td>-0.031868</td>\n",
              "      <td>0.213011</td>\n",
              "      <td>0.213953</td>\n",
              "      <td>0.167213</td>\n",
              "      <td>-0.138006</td>\n",
              "      <td>-0.152837</td>\n",
              "      <td>-0.078383</td>\n",
              "      <td>0.019778</td>\n",
              "      <td>0.045189</td>\n",
              "      <td>0.046534</td>\n",
              "      <td>0.014512</td>\n",
              "      <td>0.001562</td>\n",
              "      <td>-0.001562</td>\n",
              "    </tr>\n",
              "    <tr>\n",
              "      <th>age_in_days</th>\n",
              "      <td>0.095103</td>\n",
              "      <td>0.005184</td>\n",
              "      <td>-0.259131</td>\n",
              "      <td>1.000000</td>\n",
              "      <td>0.029308</td>\n",
              "      <td>-0.057874</td>\n",
              "      <td>-0.072439</td>\n",
              "      <td>-0.059114</td>\n",
              "      <td>0.047954</td>\n",
              "      <td>0.176544</td>\n",
              "      <td>0.181597</td>\n",
              "      <td>0.011423</td>\n",
              "      <td>-0.151481</td>\n",
              "      <td>-0.130678</td>\n",
              "      <td>-0.030726</td>\n",
              "      <td>-0.000684</td>\n",
              "      <td>0.000684</td>\n",
              "    </tr>\n",
              "    <tr>\n",
              "      <th>Income</th>\n",
              "      <td>0.016541</td>\n",
              "      <td>-0.001798</td>\n",
              "      <td>-0.031868</td>\n",
              "      <td>0.029308</td>\n",
              "      <td>1.000000</td>\n",
              "      <td>-0.001296</td>\n",
              "      <td>-0.017292</td>\n",
              "      <td>-0.012341</td>\n",
              "      <td>0.062637</td>\n",
              "      <td>0.079078</td>\n",
              "      <td>-0.055477</td>\n",
              "      <td>0.015270</td>\n",
              "      <td>0.024703</td>\n",
              "      <td>0.039225</td>\n",
              "      <td>0.013132</td>\n",
              "      <td>-0.003392</td>\n",
              "      <td>0.003392</td>\n",
              "    </tr>\n",
              "    <tr>\n",
              "      <th>Count_3-6_months_late</th>\n",
              "      <td>-0.246469</td>\n",
              "      <td>-0.005643</td>\n",
              "      <td>0.213011</td>\n",
              "      <td>-0.057874</td>\n",
              "      <td>-0.001296</td>\n",
              "      <td>1.000000</td>\n",
              "      <td>0.204286</td>\n",
              "      <td>0.296139</td>\n",
              "      <td>-0.082306</td>\n",
              "      <td>0.076435</td>\n",
              "      <td>-0.058724</td>\n",
              "      <td>0.018655</td>\n",
              "      <td>0.031645</td>\n",
              "      <td>0.034018</td>\n",
              "      <td>0.004946</td>\n",
              "      <td>-0.001513</td>\n",
              "      <td>0.001513</td>\n",
              "    </tr>\n",
              "    <tr>\n",
              "      <th>Count_6-12_months_late</th>\n",
              "      <td>-0.284034</td>\n",
              "      <td>-0.002117</td>\n",
              "      <td>0.213953</td>\n",
              "      <td>-0.072439</td>\n",
              "      <td>-0.017292</td>\n",
              "      <td>0.204286</td>\n",
              "      <td>1.000000</td>\n",
              "      <td>0.266337</td>\n",
              "      <td>0.004581</td>\n",
              "      <td>-0.092593</td>\n",
              "      <td>-0.026178</td>\n",
              "      <td>0.008613</td>\n",
              "      <td>0.009052</td>\n",
              "      <td>0.020954</td>\n",
              "      <td>0.002125</td>\n",
              "      <td>0.000809</td>\n",
              "      <td>-0.000809</td>\n",
              "    </tr>\n",
              "    <tr>\n",
              "      <th>Count_more_than_12_months_late</th>\n",
              "      <td>-0.238482</td>\n",
              "      <td>0.003429</td>\n",
              "      <td>0.167213</td>\n",
              "      <td>-0.059114</td>\n",
              "      <td>-0.012341</td>\n",
              "      <td>0.296139</td>\n",
              "      <td>0.266337</td>\n",
              "      <td>1.000000</td>\n",
              "      <td>-0.031527</td>\n",
              "      <td>-0.021409</td>\n",
              "      <td>-0.028866</td>\n",
              "      <td>0.008364</td>\n",
              "      <td>0.016211</td>\n",
              "      <td>0.017141</td>\n",
              "      <td>0.002077</td>\n",
              "      <td>0.001219</td>\n",
              "      <td>-0.001219</td>\n",
              "    </tr>\n",
              "    <tr>\n",
              "      <th>application_underwriting_score</th>\n",
              "      <td>0.067333</td>\n",
              "      <td>-0.002085</td>\n",
              "      <td>-0.138006</td>\n",
              "      <td>0.047954</td>\n",
              "      <td>0.062637</td>\n",
              "      <td>-0.082306</td>\n",
              "      <td>0.004581</td>\n",
              "      <td>-0.031527</td>\n",
              "      <td>1.000000</td>\n",
              "      <td>-0.262585</td>\n",
              "      <td>0.049784</td>\n",
              "      <td>-0.007830</td>\n",
              "      <td>-0.050126</td>\n",
              "      <td>-0.012676</td>\n",
              "      <td>0.000082</td>\n",
              "      <td>-0.004916</td>\n",
              "      <td>0.004916</td>\n",
              "    </tr>\n",
              "    <tr>\n",
              "      <th>no_of_premiums_paid</th>\n",
              "      <td>0.022664</td>\n",
              "      <td>-0.003328</td>\n",
              "      <td>-0.152837</td>\n",
              "      <td>0.176544</td>\n",
              "      <td>0.079078</td>\n",
              "      <td>0.076435</td>\n",
              "      <td>-0.092593</td>\n",
              "      <td>-0.021409</td>\n",
              "      <td>-0.262585</td>\n",
              "      <td>1.000000</td>\n",
              "      <td>-0.055044</td>\n",
              "      <td>0.039574</td>\n",
              "      <td>0.021251</td>\n",
              "      <td>0.011755</td>\n",
              "      <td>0.004145</td>\n",
              "      <td>-0.003447</td>\n",
              "      <td>0.003447</td>\n",
              "    </tr>\n",
              "    <tr>\n",
              "      <th>sourcing_channel_A</th>\n",
              "      <td>0.036386</td>\n",
              "      <td>0.002253</td>\n",
              "      <td>-0.078383</td>\n",
              "      <td>0.181597</td>\n",
              "      <td>-0.055477</td>\n",
              "      <td>-0.058724</td>\n",
              "      <td>-0.026178</td>\n",
              "      <td>-0.028866</td>\n",
              "      <td>0.049784</td>\n",
              "      <td>-0.055044</td>\n",
              "      <td>1.000000</td>\n",
              "      <td>-0.553378</td>\n",
              "      <td>-0.456667</td>\n",
              "      <td>-0.350466</td>\n",
              "      <td>-0.095015</td>\n",
              "      <td>0.000405</td>\n",
              "      <td>-0.000405</td>\n",
              "    </tr>\n",
              "    <tr>\n",
              "      <th>sourcing_channel_B</th>\n",
              "      <td>-0.004151</td>\n",
              "      <td>-0.005946</td>\n",
              "      <td>0.019778</td>\n",
              "      <td>0.011423</td>\n",
              "      <td>0.015270</td>\n",
              "      <td>0.018655</td>\n",
              "      <td>0.008613</td>\n",
              "      <td>0.008364</td>\n",
              "      <td>-0.007830</td>\n",
              "      <td>0.039574</td>\n",
              "      <td>-0.553378</td>\n",
              "      <td>1.000000</td>\n",
              "      <td>-0.215126</td>\n",
              "      <td>-0.165097</td>\n",
              "      <td>-0.044759</td>\n",
              "      <td>-0.002700</td>\n",
              "      <td>0.002700</td>\n",
              "    </tr>\n",
              "    <tr>\n",
              "      <th>sourcing_channel_C</th>\n",
              "      <td>-0.021598</td>\n",
              "      <td>0.000984</td>\n",
              "      <td>0.045189</td>\n",
              "      <td>-0.151481</td>\n",
              "      <td>0.024703</td>\n",
              "      <td>0.031645</td>\n",
              "      <td>0.009052</td>\n",
              "      <td>0.016211</td>\n",
              "      <td>-0.050126</td>\n",
              "      <td>0.021251</td>\n",
              "      <td>-0.456667</td>\n",
              "      <td>-0.215126</td>\n",
              "      <td>1.000000</td>\n",
              "      <td>-0.136244</td>\n",
              "      <td>-0.036937</td>\n",
              "      <td>0.000378</td>\n",
              "      <td>-0.000378</td>\n",
              "    </tr>\n",
              "    <tr>\n",
              "      <th>sourcing_channel_D</th>\n",
              "      <td>-0.028412</td>\n",
              "      <td>0.002335</td>\n",
              "      <td>0.046534</td>\n",
              "      <td>-0.130678</td>\n",
              "      <td>0.039225</td>\n",
              "      <td>0.034018</td>\n",
              "      <td>0.020954</td>\n",
              "      <td>0.017141</td>\n",
              "      <td>-0.012676</td>\n",
              "      <td>0.011755</td>\n",
              "      <td>-0.350466</td>\n",
              "      <td>-0.165097</td>\n",
              "      <td>-0.136244</td>\n",
              "      <td>1.000000</td>\n",
              "      <td>-0.028347</td>\n",
              "      <td>0.000094</td>\n",
              "      <td>-0.000094</td>\n",
              "    </tr>\n",
              "    <tr>\n",
              "      <th>sourcing_channel_E</th>\n",
              "      <td>-0.004685</td>\n",
              "      <td>0.002870</td>\n",
              "      <td>0.014512</td>\n",
              "      <td>-0.030726</td>\n",
              "      <td>0.013132</td>\n",
              "      <td>0.004946</td>\n",
              "      <td>0.002125</td>\n",
              "      <td>0.002077</td>\n",
              "      <td>0.000082</td>\n",
              "      <td>0.004145</td>\n",
              "      <td>-0.095015</td>\n",
              "      <td>-0.044759</td>\n",
              "      <td>-0.036937</td>\n",
              "      <td>-0.028347</td>\n",
              "      <td>1.000000</td>\n",
              "      <td>0.008377</td>\n",
              "      <td>-0.008377</td>\n",
              "    </tr>\n",
              "    <tr>\n",
              "      <th>residence_area_type_Rural</th>\n",
              "      <td>-0.001667</td>\n",
              "      <td>-0.002015</td>\n",
              "      <td>0.001562</td>\n",
              "      <td>-0.000684</td>\n",
              "      <td>-0.003392</td>\n",
              "      <td>-0.001513</td>\n",
              "      <td>0.000809</td>\n",
              "      <td>0.001219</td>\n",
              "      <td>-0.004916</td>\n",
              "      <td>-0.003447</td>\n",
              "      <td>0.000405</td>\n",
              "      <td>-0.002700</td>\n",
              "      <td>0.000378</td>\n",
              "      <td>0.000094</td>\n",
              "      <td>0.008377</td>\n",
              "      <td>1.000000</td>\n",
              "      <td>-1.000000</td>\n",
              "    </tr>\n",
              "    <tr>\n",
              "      <th>residence_area_type_Urban</th>\n",
              "      <td>0.001667</td>\n",
              "      <td>0.002015</td>\n",
              "      <td>-0.001562</td>\n",
              "      <td>0.000684</td>\n",
              "      <td>0.003392</td>\n",
              "      <td>0.001513</td>\n",
              "      <td>-0.000809</td>\n",
              "      <td>-0.001219</td>\n",
              "      <td>0.004916</td>\n",
              "      <td>0.003447</td>\n",
              "      <td>-0.000405</td>\n",
              "      <td>0.002700</td>\n",
              "      <td>-0.000378</td>\n",
              "      <td>-0.000094</td>\n",
              "      <td>-0.008377</td>\n",
              "      <td>-1.000000</td>\n",
              "      <td>1.000000</td>\n",
              "    </tr>\n",
              "  </tbody>\n",
              "</table>\n",
              "</div>"
            ],
            "text/plain": [
              "                                    target        id  \\\n",
              "target                            1.000000 -0.005064   \n",
              "id                               -0.005064  1.000000   \n",
              "perc_premium_paid_by_cash_credit -0.240980 -0.004833   \n",
              "age_in_days                       0.095103  0.005184   \n",
              "Income                            0.016541 -0.001798   \n",
              "Count_3-6_months_late            -0.246469 -0.005643   \n",
              "Count_6-12_months_late           -0.284034 -0.002117   \n",
              "Count_more_than_12_months_late   -0.238482  0.003429   \n",
              "application_underwriting_score    0.067333 -0.002085   \n",
              "no_of_premiums_paid               0.022664 -0.003328   \n",
              "sourcing_channel_A                0.036386  0.002253   \n",
              "sourcing_channel_B               -0.004151 -0.005946   \n",
              "sourcing_channel_C               -0.021598  0.000984   \n",
              "sourcing_channel_D               -0.028412  0.002335   \n",
              "sourcing_channel_E               -0.004685  0.002870   \n",
              "residence_area_type_Rural        -0.001667 -0.002015   \n",
              "residence_area_type_Urban         0.001667  0.002015   \n",
              "\n",
              "                                  perc_premium_paid_by_cash_credit  \\\n",
              "target                                                   -0.240980   \n",
              "id                                                       -0.004833   \n",
              "perc_premium_paid_by_cash_credit                          1.000000   \n",
              "age_in_days                                              -0.259131   \n",
              "Income                                                   -0.031868   \n",
              "Count_3-6_months_late                                     0.213011   \n",
              "Count_6-12_months_late                                    0.213953   \n",
              "Count_more_than_12_months_late                            0.167213   \n",
              "application_underwriting_score                           -0.138006   \n",
              "no_of_premiums_paid                                      -0.152837   \n",
              "sourcing_channel_A                                       -0.078383   \n",
              "sourcing_channel_B                                        0.019778   \n",
              "sourcing_channel_C                                        0.045189   \n",
              "sourcing_channel_D                                        0.046534   \n",
              "sourcing_channel_E                                        0.014512   \n",
              "residence_area_type_Rural                                 0.001562   \n",
              "residence_area_type_Urban                                -0.001562   \n",
              "\n",
              "                                  age_in_days    Income  \\\n",
              "target                               0.095103  0.016541   \n",
              "id                                   0.005184 -0.001798   \n",
              "perc_premium_paid_by_cash_credit    -0.259131 -0.031868   \n",
              "age_in_days                          1.000000  0.029308   \n",
              "Income                               0.029308  1.000000   \n",
              "Count_3-6_months_late               -0.057874 -0.001296   \n",
              "Count_6-12_months_late              -0.072439 -0.017292   \n",
              "Count_more_than_12_months_late      -0.059114 -0.012341   \n",
              "application_underwriting_score       0.047954  0.062637   \n",
              "no_of_premiums_paid                  0.176544  0.079078   \n",
              "sourcing_channel_A                   0.181597 -0.055477   \n",
              "sourcing_channel_B                   0.011423  0.015270   \n",
              "sourcing_channel_C                  -0.151481  0.024703   \n",
              "sourcing_channel_D                  -0.130678  0.039225   \n",
              "sourcing_channel_E                  -0.030726  0.013132   \n",
              "residence_area_type_Rural           -0.000684 -0.003392   \n",
              "residence_area_type_Urban            0.000684  0.003392   \n",
              "\n",
              "                                  Count_3-6_months_late  \\\n",
              "target                                        -0.246469   \n",
              "id                                            -0.005643   \n",
              "perc_premium_paid_by_cash_credit               0.213011   \n",
              "age_in_days                                   -0.057874   \n",
              "Income                                        -0.001296   \n",
              "Count_3-6_months_late                          1.000000   \n",
              "Count_6-12_months_late                         0.204286   \n",
              "Count_more_than_12_months_late                 0.296139   \n",
              "application_underwriting_score                -0.082306   \n",
              "no_of_premiums_paid                            0.076435   \n",
              "sourcing_channel_A                            -0.058724   \n",
              "sourcing_channel_B                             0.018655   \n",
              "sourcing_channel_C                             0.031645   \n",
              "sourcing_channel_D                             0.034018   \n",
              "sourcing_channel_E                             0.004946   \n",
              "residence_area_type_Rural                     -0.001513   \n",
              "residence_area_type_Urban                      0.001513   \n",
              "\n",
              "                                  Count_6-12_months_late  \\\n",
              "target                                         -0.284034   \n",
              "id                                             -0.002117   \n",
              "perc_premium_paid_by_cash_credit                0.213953   \n",
              "age_in_days                                    -0.072439   \n",
              "Income                                         -0.017292   \n",
              "Count_3-6_months_late                           0.204286   \n",
              "Count_6-12_months_late                          1.000000   \n",
              "Count_more_than_12_months_late                  0.266337   \n",
              "application_underwriting_score                  0.004581   \n",
              "no_of_premiums_paid                            -0.092593   \n",
              "sourcing_channel_A                             -0.026178   \n",
              "sourcing_channel_B                              0.008613   \n",
              "sourcing_channel_C                              0.009052   \n",
              "sourcing_channel_D                              0.020954   \n",
              "sourcing_channel_E                              0.002125   \n",
              "residence_area_type_Rural                       0.000809   \n",
              "residence_area_type_Urban                      -0.000809   \n",
              "\n",
              "                                  Count_more_than_12_months_late  \\\n",
              "target                                                 -0.238482   \n",
              "id                                                      0.003429   \n",
              "perc_premium_paid_by_cash_credit                        0.167213   \n",
              "age_in_days                                            -0.059114   \n",
              "Income                                                 -0.012341   \n",
              "Count_3-6_months_late                                   0.296139   \n",
              "Count_6-12_months_late                                  0.266337   \n",
              "Count_more_than_12_months_late                          1.000000   \n",
              "application_underwriting_score                         -0.031527   \n",
              "no_of_premiums_paid                                    -0.021409   \n",
              "sourcing_channel_A                                     -0.028866   \n",
              "sourcing_channel_B                                      0.008364   \n",
              "sourcing_channel_C                                      0.016211   \n",
              "sourcing_channel_D                                      0.017141   \n",
              "sourcing_channel_E                                      0.002077   \n",
              "residence_area_type_Rural                               0.001219   \n",
              "residence_area_type_Urban                              -0.001219   \n",
              "\n",
              "                                  application_underwriting_score  \\\n",
              "target                                                  0.067333   \n",
              "id                                                     -0.002085   \n",
              "perc_premium_paid_by_cash_credit                       -0.138006   \n",
              "age_in_days                                             0.047954   \n",
              "Income                                                  0.062637   \n",
              "Count_3-6_months_late                                  -0.082306   \n",
              "Count_6-12_months_late                                  0.004581   \n",
              "Count_more_than_12_months_late                         -0.031527   \n",
              "application_underwriting_score                          1.000000   \n",
              "no_of_premiums_paid                                    -0.262585   \n",
              "sourcing_channel_A                                      0.049784   \n",
              "sourcing_channel_B                                     -0.007830   \n",
              "sourcing_channel_C                                     -0.050126   \n",
              "sourcing_channel_D                                     -0.012676   \n",
              "sourcing_channel_E                                      0.000082   \n",
              "residence_area_type_Rural                              -0.004916   \n",
              "residence_area_type_Urban                               0.004916   \n",
              "\n",
              "                                  no_of_premiums_paid  sourcing_channel_A  \\\n",
              "target                                       0.022664            0.036386   \n",
              "id                                          -0.003328            0.002253   \n",
              "perc_premium_paid_by_cash_credit            -0.152837           -0.078383   \n",
              "age_in_days                                  0.176544            0.181597   \n",
              "Income                                       0.079078           -0.055477   \n",
              "Count_3-6_months_late                        0.076435           -0.058724   \n",
              "Count_6-12_months_late                      -0.092593           -0.026178   \n",
              "Count_more_than_12_months_late              -0.021409           -0.028866   \n",
              "application_underwriting_score              -0.262585            0.049784   \n",
              "no_of_premiums_paid                          1.000000           -0.055044   \n",
              "sourcing_channel_A                          -0.055044            1.000000   \n",
              "sourcing_channel_B                           0.039574           -0.553378   \n",
              "sourcing_channel_C                           0.021251           -0.456667   \n",
              "sourcing_channel_D                           0.011755           -0.350466   \n",
              "sourcing_channel_E                           0.004145           -0.095015   \n",
              "residence_area_type_Rural                   -0.003447            0.000405   \n",
              "residence_area_type_Urban                    0.003447           -0.000405   \n",
              "\n",
              "                                  sourcing_channel_B  sourcing_channel_C  \\\n",
              "target                                     -0.004151           -0.021598   \n",
              "id                                         -0.005946            0.000984   \n",
              "perc_premium_paid_by_cash_credit            0.019778            0.045189   \n",
              "age_in_days                                 0.011423           -0.151481   \n",
              "Income                                      0.015270            0.024703   \n",
              "Count_3-6_months_late                       0.018655            0.031645   \n",
              "Count_6-12_months_late                      0.008613            0.009052   \n",
              "Count_more_than_12_months_late              0.008364            0.016211   \n",
              "application_underwriting_score             -0.007830           -0.050126   \n",
              "no_of_premiums_paid                         0.039574            0.021251   \n",
              "sourcing_channel_A                         -0.553378           -0.456667   \n",
              "sourcing_channel_B                          1.000000           -0.215126   \n",
              "sourcing_channel_C                         -0.215126            1.000000   \n",
              "sourcing_channel_D                         -0.165097           -0.136244   \n",
              "sourcing_channel_E                         -0.044759           -0.036937   \n",
              "residence_area_type_Rural                  -0.002700            0.000378   \n",
              "residence_area_type_Urban                   0.002700           -0.000378   \n",
              "\n",
              "                                  sourcing_channel_D  sourcing_channel_E  \\\n",
              "target                                     -0.028412           -0.004685   \n",
              "id                                          0.002335            0.002870   \n",
              "perc_premium_paid_by_cash_credit            0.046534            0.014512   \n",
              "age_in_days                                -0.130678           -0.030726   \n",
              "Income                                      0.039225            0.013132   \n",
              "Count_3-6_months_late                       0.034018            0.004946   \n",
              "Count_6-12_months_late                      0.020954            0.002125   \n",
              "Count_more_than_12_months_late              0.017141            0.002077   \n",
              "application_underwriting_score             -0.012676            0.000082   \n",
              "no_of_premiums_paid                         0.011755            0.004145   \n",
              "sourcing_channel_A                         -0.350466           -0.095015   \n",
              "sourcing_channel_B                         -0.165097           -0.044759   \n",
              "sourcing_channel_C                         -0.136244           -0.036937   \n",
              "sourcing_channel_D                          1.000000           -0.028347   \n",
              "sourcing_channel_E                         -0.028347            1.000000   \n",
              "residence_area_type_Rural                   0.000094            0.008377   \n",
              "residence_area_type_Urban                  -0.000094           -0.008377   \n",
              "\n",
              "                                  residence_area_type_Rural  \\\n",
              "target                                            -0.001667   \n",
              "id                                                -0.002015   \n",
              "perc_premium_paid_by_cash_credit                   0.001562   \n",
              "age_in_days                                       -0.000684   \n",
              "Income                                            -0.003392   \n",
              "Count_3-6_months_late                             -0.001513   \n",
              "Count_6-12_months_late                             0.000809   \n",
              "Count_more_than_12_months_late                     0.001219   \n",
              "application_underwriting_score                    -0.004916   \n",
              "no_of_premiums_paid                               -0.003447   \n",
              "sourcing_channel_A                                 0.000405   \n",
              "sourcing_channel_B                                -0.002700   \n",
              "sourcing_channel_C                                 0.000378   \n",
              "sourcing_channel_D                                 0.000094   \n",
              "sourcing_channel_E                                 0.008377   \n",
              "residence_area_type_Rural                          1.000000   \n",
              "residence_area_type_Urban                         -1.000000   \n",
              "\n",
              "                                  residence_area_type_Urban  \n",
              "target                                             0.001667  \n",
              "id                                                 0.002015  \n",
              "perc_premium_paid_by_cash_credit                  -0.001562  \n",
              "age_in_days                                        0.000684  \n",
              "Income                                             0.003392  \n",
              "Count_3-6_months_late                              0.001513  \n",
              "Count_6-12_months_late                            -0.000809  \n",
              "Count_more_than_12_months_late                    -0.001219  \n",
              "application_underwriting_score                     0.004916  \n",
              "no_of_premiums_paid                                0.003447  \n",
              "sourcing_channel_A                                -0.000405  \n",
              "sourcing_channel_B                                 0.002700  \n",
              "sourcing_channel_C                                -0.000378  \n",
              "sourcing_channel_D                                -0.000094  \n",
              "sourcing_channel_E                                -0.008377  \n",
              "residence_area_type_Rural                         -1.000000  \n",
              "residence_area_type_Urban                          1.000000  "
            ]
          },
          "metadata": {
            "tags": []
          },
          "execution_count": 135
        }
      ]
    },
    {
      "cell_type": "code",
      "metadata": {
        "id": "yGPOVnn9s7i5",
        "colab_type": "code",
        "colab": {}
      },
      "source": [
        "from sklearn.tree import DecisionTreeClassifier"
      ],
      "execution_count": null,
      "outputs": []
    },
    {
      "cell_type": "code",
      "metadata": {
        "id": "-UvlwhuZs7i-",
        "colab_type": "code",
        "colab": {}
      },
      "source": [
        "clf=DecisionTreeClassifier(max_depth=25, random_state=15, class_weight={1:1,0:19.9769}, min_weight_fraction_leaf=0.40, max_leaf_nodes=50, min_impurity_decrease= 0.009)"
      ],
      "execution_count": null,
      "outputs": []
    },
    {
      "cell_type": "code",
      "metadata": {
        "id": "MNumVJFVs7jB",
        "colab_type": "code",
        "colab": {},
        "outputId": "08697c9e-ea9a-454f-9560-84a7dc3d8a0f"
      },
      "source": [
        "clf.fit(x,y)"
      ],
      "execution_count": null,
      "outputs": [
        {
          "output_type": "execute_result",
          "data": {
            "text/plain": [
              "DecisionTreeClassifier(class_weight={1: 1, 0: 19.9769}, criterion='gini',\n",
              "            max_depth=25, max_features=None, max_leaf_nodes=50,\n",
              "            min_impurity_decrease=0.009, min_impurity_split=None,\n",
              "            min_samples_leaf=1, min_samples_split=2,\n",
              "            min_weight_fraction_leaf=0.4, presort=False, random_state=15,\n",
              "            splitter='best')"
            ]
          },
          "metadata": {
            "tags": []
          },
          "execution_count": 138
        }
      ]
    },
    {
      "cell_type": "code",
      "metadata": {
        "id": "8uKwviQfs7jG",
        "colab_type": "code",
        "colab": {},
        "outputId": "940dccac-8de5-4ad2-e8f2-ffb3222446a3"
      },
      "source": [
        "clf.score(x,y)"
      ],
      "execution_count": null,
      "outputs": [
        {
          "output_type": "execute_result",
          "data": {
            "text/plain": [
              "0.7039434961742201"
            ]
          },
          "metadata": {
            "tags": []
          },
          "execution_count": 139
        }
      ]
    },
    {
      "cell_type": "code",
      "metadata": {
        "id": "7pnBqU1Ds7jL",
        "colab_type": "code",
        "colab": {},
        "outputId": "51c2a611-f4ad-4e70-db62-512fbc4ad188"
      },
      "source": [
        "clf.predict(tests)"
      ],
      "execution_count": null,
      "outputs": [
        {
          "output_type": "execute_result",
          "data": {
            "text/plain": [
              "array([1, 1, 0, ..., 1, 0, 1], dtype=int64)"
            ]
          },
          "metadata": {
            "tags": []
          },
          "execution_count": 140
        }
      ]
    },
    {
      "cell_type": "code",
      "metadata": {
        "id": "BPC8FLI5s7jU",
        "colab_type": "code",
        "colab": {}
      },
      "source": [
        "prediction=clf.predict(tests)"
      ],
      "execution_count": null,
      "outputs": []
    },
    {
      "cell_type": "code",
      "metadata": {
        "id": "afT_r-7ks7jX",
        "colab_type": "code",
        "colab": {}
      },
      "source": [
        "submission = pd.DataFrame()"
      ],
      "execution_count": null,
      "outputs": []
    },
    {
      "cell_type": "code",
      "metadata": {
        "id": "j_fBLQPas7jc",
        "colab_type": "code",
        "colab": {}
      },
      "source": [
        "submission['id']=ids"
      ],
      "execution_count": null,
      "outputs": []
    },
    {
      "cell_type": "code",
      "metadata": {
        "id": "NDtlmuHGs7jg",
        "colab_type": "code",
        "colab": {}
      },
      "source": [
        "submission['target'] = prediction"
      ],
      "execution_count": null,
      "outputs": []
    },
    {
      "cell_type": "code",
      "metadata": {
        "id": "7azCJC7ss7jl",
        "colab_type": "code",
        "colab": {}
      },
      "source": [
        "submission.to_csv('submission6.csv', header=True, index=False)"
      ],
      "execution_count": null,
      "outputs": []
    },
    {
      "cell_type": "code",
      "metadata": {
        "id": "ptD3lTTts7jq",
        "colab_type": "code",
        "colab": {}
      },
      "source": [
        ""
      ],
      "execution_count": null,
      "outputs": []
    }
  ]
}